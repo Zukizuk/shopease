{
 "cells": [
  {
   "cell_type": "code",
   "execution_count": 10,
   "id": "9a77035d-defc-447f-a7c2-48cd22e01d2b",
   "metadata": {},
   "outputs": [],
   "source": [
    "import pandas as pd\n",
    "import numpy as np"
   ]
  },
  {
   "cell_type": "markdown",
   "id": "1dbc725e-6c08-4c96-8553-c025f84a3f88",
   "metadata": {},
   "source": [
    "# 1. Load the data"
   ]
  },
  {
   "cell_type": "code",
   "execution_count": 11,
   "id": "5e4869a4-4082-4698-ab76-c5b5b8fc46e2",
   "metadata": {},
   "outputs": [],
   "source": [
    "orders_df = pd.read_csv('Orders.csv')\n",
    "products_df = pd.read_csv('products.csv')"
   ]
  },
  {
   "cell_type": "code",
   "execution_count": 12,
   "id": "d01d55ef-9b61-43af-9cc8-b553f1b7c392",
   "metadata": {},
   "outputs": [],
   "source": [
    "sales_df = orders_df.merge(products_df, on='product_id')"
   ]
  },
  {
   "cell_type": "markdown",
   "id": "24d8a7f6-1807-4e1e-8444-79cd87c37c11",
   "metadata": {},
   "source": [
    "# 2. Data Cleaning"
   ]
  },
  {
   "cell_type": "code",
   "execution_count": 13,
   "id": "834bee14-41f9-43df-a11c-5efcf167b86a",
   "metadata": {},
   "outputs": [],
   "source": [
    "sales_df.dropna(inplace=True)\n",
    "sales_df.drop_duplicates(inplace=True)\n",
    "sales_df['order_date'] = pd.to_datetime(sales_df['order_date'])"
   ]
  },
  {
   "cell_type": "markdown",
   "id": "4c0b0b14-f6b3-4573-9cc3-e3ce2aefc27d",
   "metadata": {},
   "source": [
    "# 3. NumPy Operations"
   ]
  },
  {
   "cell_type": "code",
   "execution_count": 14,
   "id": "b6e30ba7-8730-45df-851a-c102aed8602b",
   "metadata": {},
   "outputs": [],
   "source": [
    "sales_df['total_revenue']  = np.multiply(sales_df['quantity'], sales_df['price'])"
   ]
  },
  {
   "cell_type": "markdown",
   "id": "0ea06d2f-1293-4d5c-aee1-a040f364f30a",
   "metadata": {},
   "source": [
    "# 4. Data Transformation"
   ]
  },
  {
   "cell_type": "code",
   "execution_count": 15,
   "id": "ee4f9392-afb4-49f5-9b8b-1f6a92eccdc9",
   "metadata": {},
   "outputs": [],
   "source": [
    "sales_df['year'] = sales_df['order_date'].dt.year   \n",
    "sales_df['month'] = sales_df['order_date'].dt.month  "
   ]
  },
  {
   "cell_type": "code",
   "execution_count": 16,
   "id": "4d1e61bd-e913-4010-b5ee-07a45b4ce464",
   "metadata": {},
   "outputs": [
    {
     "data": {
      "text/plain": [
       "<Axes: title={'center': 'Monthly Sales Trend'}, xlabel='year,month'>"
      ]
     },
     "execution_count": 16,
     "metadata": {},
     "output_type": "execute_result"
    },
    {
     "data": {
      "image/png": "[encoded data removed]",
      "text/plain": [
       "<Figure size 640x480 with 1 Axes>"
      ]
     },
     "metadata": {},
     "output_type": "display_data"
    }
   ],
   "source": [
    "monthly_sales = sales_df.groupby(['year', 'month'])['total_revenue'].sum()\n",
    "monthly_sales.plot(kind='bar', title='Monthly Sales Trend')"
   ]
  },
  {
   "cell_type": "code",
   "execution_count": 24,
   "id": "262c1d5b-5572-47e0-9dbe-5bcf52a9e6c9",
   "metadata": {},
   "outputs": [
    {
     "data": {
      "text/plain": [
       "True"
      ]
     },
     "execution_count": 24,
     "metadata": {},
     "output_type": "execute_result"
    }
   ],
   "source": [
    "import psycopg2 as pg\n",
    "from dotenv import load_dotenv\n",
    "import os\n",
    "load_dotenv('.env.local') #Load environmental variables"
   ]
  },
  {
   "cell_type": "markdown",
   "id": "a3394654-937c-4c6e-aa2c-079fcc778c64",
   "metadata": {},
   "source": [
    "# Connect to Database"
   ]
  },
  {
   "cell_type": "code",
   "execution_count": 35,
   "id": "0b3c936a-3599-4974-a0e0-3517483beee4",
   "metadata": {},
   "outputs": [],
   "source": [
    "connectionString = os.getenv('POSTGRESQL_CRED')\n",
    "connection = pg.connect(connectionString)\n",
    "cursor = connection.cursor()"
   ]
  },
  {
   "cell_type": "markdown",
   "id": "ce045636-6982-4bb7-ac4d-aa1301c18cbe",
   "metadata": {},
   "source": [
    "# Create Schema and Table"
   ]
  },
  {
   "cell_type": "code",
   "execution_count": 27,
   "id": "e55705a0-c97b-4060-8436-fd001c1537e9",
   "metadata": {},
   "outputs": [],
   "source": [
    "cursor.execute(''' \n",
    "CREATE SCHEMA IF NOT EXISTS sales;\n",
    "''')\n",
    "cursor.execute('''\n",
    "CREATE TABLE IF NOT EXISTS sales.sales (\n",
    "    order_id INT,\n",
    "    customer_id INT,\n",
    "    order_date DATE,\n",
    "    product_id INT,\n",
    "    quantity INT,\n",
    "    product_name VARCHAR(50),\n",
    "    category VARCHAR(50),\n",
    "    price FLOAT,\n",
    "    total_revenue FLOAT,\n",
    "    year INT,\n",
    "    month INT\n",
    ");\n",
    "''')"
   ]
  },
  {
   "cell_type": "markdown",
   "id": "ee1ed4de-b7d5-45f6-a0ef-2b389646c216",
   "metadata": {},
   "source": [
    "# Insert the data"
   ]
  },
  {
   "cell_type": "code",
   "execution_count": 28,
   "id": "68c58068-35ad-4d1a-9874-4f93969ad8d9",
   "metadata": {},
   "outputs": [],
   "source": [
    "for index, row in sales_df.iterrows():\n",
    "    cursor.execute('''\n",
    "    INSERT INTO sales.sales (order_id, customer_id, order_date, product_id, quantity, product_name, category, price, total_revenue, year, month)\n",
    "    VALUES (%s, %s, %s, %s, %s, %s, %s, %s, %s, %s, %s);\n",
    "    ''', (row['order_id'], row['Cutomer_id'], row['order_date'], row['product_id'], row['quantity'], row['product_name'], row['category'], row['price'], row['total_revenue'], row['year'], row['month']))\n",
    "\n",
    "connection.commit()"
   ]
  },
  {
   "cell_type": "markdown",
   "id": "db96aecb-d36f-4dea-a8dd-39ae77401d2b",
   "metadata": {},
   "source": [
    "# Reusable Function to view tables"
   ]
  },
  {
   "cell_type": "code",
   "execution_count": 31,
   "id": "9c2f119c-fdf2-4a69-a7e4-e1aa17e56d8b",
   "metadata": {},
   "outputs": [],
   "source": [
    "def view_table(table_name, limit):\n",
    "    query = f\"SELECT * FROM {table_name}\"\n",
    "    if limit:\n",
    "        query += f\" LIMIT {limit}\"\n",
    "    return pd.read_sql_query(query, connection)"
   ]
  },
  {
   "cell_type": "code",
   "execution_count": 37,
   "id": "a6ec484f-6a9a-4a8e-a591-38b2b5a4d739",
   "metadata": {},
   "outputs": [
    {
     "name": "stdout",
     "output_type": "stream",
     "text": [
      "   order_id  customer_id  order_date  product_id  quantity product_name  \\\n",
      "0         1           20  2024-11-01           3         2       Tablet   \n",
      "1         2           36  2024-11-01           1         1       Laptop   \n",
      "2         3            1  2024-11-01           8         3   Headphones   \n",
      "3         4           36  2024-11-02           6         1   Smartwatch   \n",
      "4         5           14  2024-11-02          12         2         Desk   \n",
      "5         6            8  2024-11-02          25         4         Oven   \n",
      "6         7           18  2024-11-03          19         1    Microwave   \n",
      "7         8           47  2024-11-03          15         1         Sofa   \n",
      "8         9           22  2024-11-03          33         3        Juice   \n",
      "9        10            8  2024-11-04           7         2       Camera   \n",
      "\n",
      "          category   price  total_revenue  year  month  \n",
      "0      Electronics   450.0          900.0  2024     11  \n",
      "1      Electronics  1200.0         1200.0  2024     11  \n",
      "2      Electronics   150.0          450.0  2024     11  \n",
      "3      Electronics   200.0          200.0  2024     11  \n",
      "4        Furniture   300.0          600.0  2024     11  \n",
      "5  Home Appliances   250.0         1000.0  2024     11  \n",
      "6  Home Appliances   150.0          150.0  2024     11  \n",
      "7        Furniture   500.0          500.0  2024     11  \n",
      "8             Food     2.0            6.0  2024     11  \n",
      "9      Electronics   650.0         1300.0  2024     11  \n"
     ]
    },
    {
     "name": "stderr",
     "output_type": "stream",
     "text": [
      "C:\\Users\\Zuki\\AppData\\Local\\Temp\\ipykernel_17252\\4181638582.py:5: UserWarning: pandas only supports SQLAlchemy connectable (engine/connection) or database string URI or sqlite3 DBAPI2 connection. Other DBAPI2 objects are not tested. Please consider using SQLAlchemy.\n",
      "  return pd.read_sql_query(query, connection)\n"
     ]
    }
   ],
   "source": [
    "print(view_table('sales.sales', 10))"
   ]
  },
  {
   "cell_type": "code",
   "execution_count": 38,
   "id": "99471168-aaa7-4aa7-af00-ded98a9caa5a",
   "metadata": {},
   "outputs": [],
   "source": [
    "connection.close()"
   ]
  },
  {
   "cell_type": "code",
   "execution_count": null,
   "id": "80c113f3-7cc7-48e1-81d0-f822ddad371b",
   "metadata": {},
   "outputs": [],
   "source": []
  }
 ],
 "metadata": {
  "kernelspec": {
   "display_name": "Python 3 (ipykernel)",
   "language": "python",
   "name": "python3"
  },
  "language_info": {
   "codemirror_mode": {
    "name": "ipython",
    "version": 3
   },
   "file_extension": ".py",
   "mimetype": "text/x-python",
   "name": "python",
   "nbconvert_exporter": "python",
   "pygments_lexer": "ipython3",
   "version": "3.13.0"
  }
 },
 "nbformat": 4,
 "nbformat_minor": 5
}
